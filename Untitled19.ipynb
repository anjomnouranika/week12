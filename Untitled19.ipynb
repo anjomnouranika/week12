{
  "nbformat": 4,
  "nbformat_minor": 0,
  "metadata": {
    "colab": {
      "name": "Untitled19.ipynb",
      "provenance": [],
      "collapsed_sections": [],
      "authorship_tag": "ABX9TyM4vN/DotRw1Ek4KNlUNpAH",
      "include_colab_link": true
    },
    "kernelspec": {
      "name": "python3",
      "display_name": "Python 3"
    }
  },
  "cells": [
    {
      "cell_type": "markdown",
      "metadata": {
        "id": "view-in-github",
        "colab_type": "text"
      },
      "source": [
        "<a href=\"https://colab.research.google.com/github/anjomnouranika/week12/blob/master/Untitled19.ipynb\" target=\"_parent\"><img src=\"https://colab.research.google.com/assets/colab-badge.svg\" alt=\"Open In Colab\"/></a>"
      ]
    },
    {
      "cell_type": "code",
      "metadata": {
        "id": "Yp4jzwh1vynU",
        "colab_type": "code",
        "colab": {
          "base_uri": "https://localhost:8080/",
          "height": 119
        },
        "outputId": "8051b7d9-bb1e-4255-c871-7d051329abe5"
      },
      "source": [
        "physics = int(input(\"physics=\"))\n",
        "chemistry = int(input(\"chemistry = \"))\n",
        "math = int(input(\"math = \"))\n",
        "biology = int(input(\"biology = \"))\n",
        "average = (physics + chemistry + biology + math) / 4\n",
        "print(\"Percentage =\",average)\n",
        "if (average >= 90 and average <= 100):\n",
        "  print(\" Grade A\")\n",
        "elif (average >= 80 and average <= 90):\n",
        "  print(\"Grade B\")\n",
        "elif(average >= 70  and average <=80 ):\n",
        "  print(\"Grade C\")\n",
        "elif(average >= 60 and average <= 70):\n",
        "  print(\"Grade D\")\n",
        "elif(average >= 40 and average <= 60):\n",
        "  print(\"Grade E\")\n",
        "else:\n",
        "  print(\"Grade F\")           "
      ],
      "execution_count": null,
      "outputs": [
        {
          "output_type": "stream",
          "text": [
            "physics=38\n",
            "chemistry = 37\n",
            "math = 40\n",
            "biology = 34\n",
            "Percentage = 37.25\n",
            "Grade F\n"
          ],
          "name": "stdout"
        }
      ]
    }
  ]
}